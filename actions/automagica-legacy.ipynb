{
 "cells": [
  {
   "cell_type": "code",
   "execution_count": 1,
   "metadata": {
    "tags": []
   },
   "outputs": [
    {
     "name": "stdout",
     "output_type": "stream",
     "text": [
      "pip 19.2.3 from d:\\dev\\dashboard-global\\venv\\lib\\site-packages\\pip (python 3.8)\n",
      "\n"
     ]
    }
   ],
   "source": [
    "!pip --version"
   ]
  },
  {
   "cell_type": "code",
   "execution_count": 33,
   "metadata": {},
   "outputs": [],
   "source": [
    "#import automagica as magic\n",
    "from selenium import webdriver\n",
    "from selenium.webdriver.support.ui import WebDriverWait\n",
    "from selenium.webdriver.support import expected_conditions as EC\n",
    "from selenium.common.exceptions import NoSuchElementException, TimeoutException, ElementClickInterceptedException\n",
    "from selenium.webdriver.common.action_chains import ActionChains\n",
    "from selenium.webdriver.common.keys import Keys\n",
    "from selenium.webdriver.common.by import By\n",
    "import selenium\n",
    "\n",
    "import mouse, sys, logging, time, socket, datetime\n"
   ]
  },
  {
   "cell_type": "code",
   "execution_count": 10,
   "metadata": {},
   "outputs": [],
   "source": [
    "#browser = magic.activities.Chrome()\n",
    "#browser.browse_to(\"https://www.google.com\")\n",
    "#xy = mouse.get_position()\n",
    "#search_bar = browser.find_element_by_xpath(\"//*[@id='tsf']/div[2]/div[1]/div[1]/div/div[2]/input\") #605, 413\n",
    "#get_browser_foreground(browser)\n",
    "#mouse.move(605, 413, duration=1) # move mouse to searchbar\n",
    "#mouse.click()\n",
    "#get_browser_foreground(browser)\n",
    "#mouse.move(605, 413, duration=1) # move mouse to searchbar\n",
    "#mouse.click()\n",
    "#while(not (search_bar.is_displayed() and search_bar.is_enabled()) ):\n",
    "#    magic.wait(1)\n",
    "#search_bar.send_keys(\"btcusd\")    "
   ]
  },
  {
   "cell_type": "code",
   "execution_count": 28,
   "metadata": {},
   "outputs": [],
   "source": [
    "#search_button = browser.find_element_by_xpath(\"//*[@id='tsf']/div[2]/div[1]/div[2]/div[2]/div[2]/center/input[1]\")\n",
    "#search_button.click() #"
   ]
  },
  {
   "cell_type": "code",
   "execution_count": 50,
   "metadata": {},
   "outputs": [],
   "source": [
    "#value = browser.find_element_by_xpath(\"//*[@id='knowledge-currency__updatable-data-column']/div[1]/div[2]/span[1]\")\n",
    "#move.mouse(270,352) # move movuse to bitcoin value"
   ]
  },
  {
   "cell_type": "code",
   "execution_count": 51,
   "metadata": {},
   "outputs": [],
   "source": [
    "#BTCUSD = float(value.text.replace(\".\",\"\").replace(\",\",\".\")) # convert \"10.164,60\" str to fload value"
   ]
  },
  {
   "cell_type": "code",
   "execution_count": 52,
   "metadata": {},
   "outputs": [
    {
     "name": "stdout",
     "output_type": "stream",
     "text": [
      "10269.8\n"
     ]
    }
   ],
   "source": [
    "#print(BTCUSD)"
   ]
  },
  {
   "cell_type": "code",
   "execution_count": 53,
   "metadata": {},
   "outputs": [],
   "source": [
    "browser.close()"
   ]
  },
  {
   "cell_type": "raw",
   "metadata": {},
   "source": []
  },
  {
   "cell_type": "code",
   "execution_count": 46,
   "metadata": {},
   "outputs": [],
   "source": [
    "def get_btcusd():\n",
    "    # TODO:\n",
    "    ## wrap with try-catches for robust execution\n",
    "    browser = magic.activities.Chrome(); get_browser_foreground(browser)\n",
    "    browser.browse_to(\"https://www.google.com\")\n",
    "    search_bar = browser.find_element_by_xpath(\"//*[@id='tsf']/div[2]/div[1]/div[1]/div/div[2]/input\") #605, 413\n",
    "    get_browser_foreground(browser)\n",
    "    mouse.move(605, 413, duration=1) # move mouse to searchbar\n",
    "    mouse.click()\n",
    "    while(not (search_bar.is_displayed() and search_bar.is_enabled()) ):\n",
    "        magic.wait(1)\n",
    "    search_bar.send_keys(\"btcusd\")\n",
    "    search_button = browser.find_element_by_xpath(\"//*[@id='tsf']/div[2]/div[1]/div[2]/div[2]/div[2]/center/input[1]\")\n",
    "    while(not (search_button.is_displayed() and search_button.is_enabled()) ):\n",
    "        magic.wait(1)\n",
    "    search_button.click()\n",
    "    value = browser.find_element_by_xpath(\"//*[@id='knowledge-currency__updatable-data-column']/div[1]/div[2]/span[1]\")\n",
    "    mouse.move(270,352, duration=1.2) # move movuse to bitcoin value\n",
    "    BTCUSD = float(value.text.replace(\".\",\"\").replace(\",\",\".\")) # convert \"10.164,60\" str to fload value\n",
    "    magic.wait(2);browser.close()\n",
    "    print(BTCUSD)\n",
    "    return BTCUSD"
   ]
  },
  {
   "cell_type": "code",
   "execution_count": 47,
   "metadata": {},
   "outputs": [
    {
     "name": "stdout",
     "output_type": "stream",
     "text": [
      "10232.8\n"
     ]
    },
    {
     "data": {
      "text/plain": [
       "10232.8"
      ]
     },
     "execution_count": 47,
     "metadata": {},
     "output_type": "execute_result"
    }
   ],
   "source": [
    "get_btcusd()"
   ]
  },
  {
   "cell_type": "code",
   "execution_count": null,
   "metadata": {},
   "outputs": [],
   "source": []
  }
 ],
 "metadata": {
  "kernelspec": {
   "name": "python3",
   "display_name": "Python 3.9.1 64-bit ('venv-ik-2': conda)",
   "metadata": {
    "interpreter": {
     "hash": "2942271f05182898d7a96974378ed2424da87da9174828e215025fd8ec868fc5"
    }
   }
  },
  "language_info": {
   "codemirror_mode": {
    "name": "ipython",
    "version": 3
   },
   "file_extension": ".py",
   "mimetype": "text/x-python",
   "name": "python",
   "nbconvert_exporter": "python",
   "pygments_lexer": "ipython3",
   "version": "3.9.1-final"
  }
 },
 "nbformat": 4,
 "nbformat_minor": 4
}