{
 "cells": [
  {
   "cell_type": "code",
   "execution_count": 1,
   "metadata": {
    "tags": []
   },
   "outputs": [
    {
     "output_type": "stream",
     "name": "stderr",
     "text": "WARNING: pip is being invoked by an old script wrapper. This will fail in a future version of pip.\npip 20.1.1 from C:\\Users\\TCUDIKEL\\AppData\\Roaming\\Python\\Python38\\site-packages\\pip (python 3.8)\n\nPlease see https://github.com/pypa/pip/issues/5599 for advice on fixing the underlying issue.\nTo avoid this problem you can invoke Python with '-m pip' instead of running pip directly.\n"
    }
   ],
   "source": [
    "!pip --version"
   ]
  },
  {
   "cell_type": "code",
   "execution_count": 43,
   "metadata": {},
   "outputs": [],
   "source": [
    "import automagica as magic"
   ]
  },
  {
   "cell_type": "code",
   "execution_count": 44,
   "metadata": {},
   "outputs": [],
   "source": [
    "browser = magic.activities.Chrome()"
   ]
  },
  {
   "cell_type": "code",
   "execution_count": 45,
   "metadata": {},
   "outputs": [],
   "source": [
    "browser.browse_to(\"https://www.google.com\")"
   ]
  },
  {
   "cell_type": "code",
   "execution_count": 46,
   "metadata": {},
   "outputs": [
    {
     "name": "stderr",
     "output_type": "stream",
     "text": [
      "d:\\dev\\automagica\\venv\\lib\\site-packages\\selenium\\webdriver\\remote\\webdriver.py:432: UserWarning: find_element_by_* commands are deprecated. Please use find_element() instead\n",
      "  warnings.warn(\"find_element_by_* commands are deprecated. Please use find_element() instead\")\n"
     ]
    }
   ],
   "source": [
    "search_bar = browser.find_element_by_xpath(\"//*[@id='tsf']/div[2]/div[1]/div[1]/div/div[2]/input\")"
   ]
  },
  {
   "cell_type": "code",
   "execution_count": 47,
   "metadata": {},
   "outputs": [],
   "source": [
    "while(not (search_bar.is_displayed() and search_bar.is_enabled()) ):\n",
    "    magic.wait(1)"
   ]
  },
  {
   "cell_type": "code",
   "execution_count": 48,
   "metadata": {},
   "outputs": [],
   "source": [
    "search_bar.send_keys(\"btcusd\")    "
   ]
  },
  {
   "cell_type": "code",
   "execution_count": 49,
   "metadata": {},
   "outputs": [],
   "source": [
    "search_button = browser.find_element_by_xpath(\"//*[@id='tsf']/div[2]/div[1]/div[2]/div[2]/div[2]/center/input[1]\")\n",
    "search_button.click()"
   ]
  },
  {
   "cell_type": "code",
   "execution_count": 50,
   "metadata": {},
   "outputs": [],
   "source": [
    "value = browser.find_element_by_xpath(\"//*[@id='knowledge-currency__updatable-data-column']/div[1]/div[2]/span[1]\")"
   ]
  },
  {
   "cell_type": "code",
   "execution_count": 51,
   "metadata": {},
   "outputs": [],
   "source": [
    "BTCUSD = float(value.text.replace(\".\",\"\").replace(\",\",\".\")) # convert \"10.164,60\" str to fload value"
   ]
  },
  {
   "cell_type": "code",
   "execution_count": 52,
   "metadata": {},
   "outputs": [
    {
     "name": "stdout",
     "output_type": "stream",
     "text": [
      "10269.8\n"
     ]
    }
   ],
   "source": [
    "print(BTCUSD)"
   ]
  },
  {
   "cell_type": "code",
   "execution_count": 53,
   "metadata": {},
   "outputs": [],
   "source": [
    "browser.close()"
   ]
  },
  {
   "cell_type": "raw",
   "metadata": {},
   "source": []
  },
  {
   "cell_type": "code",
   "execution_count": 59,
   "metadata": {},
   "outputs": [],
   "source": [
    "def get_btcusd():\n",
    "    browser = magic.activities.Chrome()\n",
    "    browser.browse_to(\"https://www.google.com\")\n",
    "    search_bar = browser.find_element_by_xpath(\"//*[@id='tsf']/div[2]/div[1]/div[1]/div/div[2]/input\")\n",
    "    while(not (search_bar.is_displayed() and search_bar.is_enabled()) ):\n",
    "        magic.wait(1)\n",
    "    search_bar.send_keys(\"btcusd\")\n",
    "    search_button = browser.find_element_by_xpath(\"//*[@id='tsf']/div[2]/div[1]/div[2]/div[2]/div[2]/center/input[1]\")\n",
    "    while(not (search_button.is_displayed() and search_button.is_enabled()) ):\n",
    "        magic.wait(1)\n",
    "    search_button.click()\n",
    "    value = browser.find_element_by_xpath(\"//*[@id='knowledge-currency__updatable-data-column']/div[1]/div[2]/span[1]\")\n",
    "    BTCUSD = float(value.text.replace(\".\",\"\").replace(\",\",\".\")) # convert \"10.164,60\" str to fload value\n",
    "    browser.close()\n",
    "    print(BTCUSD)\n",
    "    return BTCUSD\n",
    "    "
   ]
  },
  {
   "cell_type": "code",
   "execution_count": 61,
   "metadata": {},
   "outputs": [
    {
     "name": "stdout",
     "output_type": "stream",
     "text": [
      "10261.0\n"
     ]
    },
    {
     "data": {
      "text/plain": [
       "10261.0"
      ]
     },
     "execution_count": 61,
     "metadata": {},
     "output_type": "execute_result"
    }
   ],
   "source": [
    "get_btcusd()"
   ]
  },
  {
   "cell_type": "code",
   "execution_count": 62,
   "metadata": {},
   "outputs": [
    {
     "ename": "TypeError",
     "evalue": "drag() missing 2 required positional arguments: 'end_x' and 'end_y'",
     "output_type": "error",
     "traceback": [
      "\u001b[1;31m---------------------------------------------------------------------------\u001b[0m",
      "\u001b[1;31mTypeError\u001b[0m                                 Traceback (most recent call last)",
      "\u001b[1;32m<ipython-input-62-48273d09fbf9>\u001b[0m in \u001b[0;36m<module>\u001b[1;34m\u001b[0m\n\u001b[1;32m----> 1\u001b[1;33m \u001b[0mmagic\u001b[0m\u001b[1;33m.\u001b[0m\u001b[0mdrag_mouse_to_coordinates\u001b[0m\u001b[1;33m(\u001b[0m\u001b[0mx\u001b[0m\u001b[1;33m=\u001b[0m\u001b[1;36m500\u001b[0m\u001b[1;33m,\u001b[0m \u001b[0my\u001b[0m\u001b[1;33m=\u001b[0m\u001b[1;36m500\u001b[0m\u001b[1;33m)\u001b[0m\u001b[1;33m\u001b[0m\u001b[1;33m\u001b[0m\u001b[0m\n\u001b[0m",
      "\u001b[1;32md:\\dev\\automagica\\venv\\lib\\site-packages\\automagica\\utilities.py\u001b[0m in \u001b[0;36mwrapper\u001b[1;34m(*args, **kwargs)\u001b[0m\n\u001b[0;32m     39\u001b[0m \u001b[1;33m\u001b[0m\u001b[0m\n\u001b[0;32m     40\u001b[0m         \u001b[1;32mtry\u001b[0m\u001b[1;33m:\u001b[0m\u001b[1;33m\u001b[0m\u001b[1;33m\u001b[0m\u001b[0m\n\u001b[1;32m---> 41\u001b[1;33m             \u001b[1;32mreturn\u001b[0m \u001b[0mfunc\u001b[0m\u001b[1;33m(\u001b[0m\u001b[1;33m*\u001b[0m\u001b[0margs\u001b[0m\u001b[1;33m,\u001b[0m \u001b[1;33m**\u001b[0m\u001b[0mkwargs\u001b[0m\u001b[1;33m)\u001b[0m\u001b[1;33m\u001b[0m\u001b[1;33m\u001b[0m\u001b[0m\n\u001b[0m\u001b[0;32m     42\u001b[0m \u001b[1;33m\u001b[0m\u001b[0m\n\u001b[0;32m     43\u001b[0m         \u001b[1;32mexcept\u001b[0m \u001b[0mException\u001b[0m \u001b[1;32mas\u001b[0m \u001b[0me\u001b[0m\u001b[1;33m:\u001b[0m\u001b[1;33m\u001b[0m\u001b[1;33m\u001b[0m\u001b[0m\n",
      "\u001b[1;32md:\\dev\\automagica\\venv\\lib\\site-packages\\automagica\\activities.py\u001b[0m in \u001b[0;36mdrag_mouse_to_coordinates\u001b[1;34m(x, y, delay)\u001b[0m\n\u001b[0;32m   2822\u001b[0m         \u001b[1;32mfrom\u001b[0m \u001b[0mmouse\u001b[0m \u001b[1;32mimport\u001b[0m \u001b[0mdrag\u001b[0m\u001b[1;33m\u001b[0m\u001b[1;33m\u001b[0m\u001b[0m\n\u001b[0;32m   2823\u001b[0m \u001b[1;33m\u001b[0m\u001b[0m\n\u001b[1;32m-> 2824\u001b[1;33m         \u001b[0mdrag\u001b[0m\u001b[1;33m(\u001b[0m\u001b[0mx\u001b[0m\u001b[1;33m,\u001b[0m \u001b[0my\u001b[0m\u001b[1;33m,\u001b[0m \u001b[0mabsolute\u001b[0m\u001b[1;33m=\u001b[0m\u001b[1;32mFalse\u001b[0m\u001b[1;33m)\u001b[0m\u001b[1;33m\u001b[0m\u001b[1;33m\u001b[0m\u001b[0m\n\u001b[0m\u001b[0;32m   2825\u001b[0m \u001b[1;33m\u001b[0m\u001b[0m\n\u001b[0;32m   2826\u001b[0m \u001b[1;33m\u001b[0m\u001b[0m\n",
      "\u001b[1;31mTypeError\u001b[0m: drag() missing 2 required positional arguments: 'end_x' and 'end_y'"
     ]
    }
   ],
   "source": [
    "magic.drag_mouse_to_coordinates(x=500, y=500)"
   ]
  }
 ],
 "metadata": {
  "kernelspec": {
   "display_name": "Python 3.8.1 64-bit",
   "language": "python",
   "name": "python_defaultSpec_1599399564616"
  },
  "language_info": {
   "codemirror_mode": {
    "name": "ipython",
    "version": 3
   },
   "file_extension": ".py",
   "mimetype": "text/x-python",
   "name": "python",
   "nbconvert_exporter": "python",
   "pygments_lexer": "ipython3",
   "version": "3.8.1-final"
  }
 },
 "nbformat": 4,
 "nbformat_minor": 4
}